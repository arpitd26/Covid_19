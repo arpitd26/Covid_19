{
  "nbformat": 4,
  "nbformat_minor": 0,
  "metadata": {
    "colab": {
      "provenance": []
    },
    "kernelspec": {
      "name": "python3",
      "display_name": "Python 3"
    },
    "language_info": {
      "name": "python"
    }
  },
  "cells": [
    {
      "cell_type": "code",
      "source": [
        "import requests\n",
        "from bs4 import BeautifulSoup\n",
        "import matplotlib.pyplot as plt\n",
        "\n",
        "# Send a GET request to the website\n",
        "url = \"https://www.worldometers.info/coronavirus/country/india\"\n",
        "r = requests.get(url)\n",
        "\n",
        "# Parse the HTML content\n",
        "soup = BeautifulSoup(r.text, \"html.parser\")\n",
        "\n",
        "# Extract the number of total cases\n",
        "cases = soup.select('#maincounter-wrap > div > span')[0].text.replace(',', '')\n",
        "Total_cases = int(cases)\n",
        "\n",
        "# Extract the number of total deaths\n",
        "deaths = soup.select('#maincounter-wrap > div > span')[1].text.replace(',', '')\n",
        "Total_deaths = int(deaths)\n",
        "\n",
        "# Extract the number of total recoveries\n",
        "recovered = soup.select('#maincounter-wrap > div > span')[2].text.replace(',', '')\n",
        "Total_recovered = int(recovered)\n",
        "\n",
        "# Calculate the number of active cases\n",
        "active = Total_cases - Total_deaths - Total_recovered\n",
        "\n",
        "# Define the data for the bar graph\n",
        "data = [active, Total_deaths, Total_recovered]\n",
        "labels = [\"Active\", \"Deaths\", \"Recovery\"]\n",
        "colors = [\"red\", \"green\", \"blue\"]\n",
        "\n",
        "# Create a figure and an axes object\n",
        "fig, ax = plt.subplots()\n",
        "\n",
        "# Use the plt.bar() function to create the bar graph\n",
        "plt.bar(labels, data, color=colors)\n",
        "\n",
        "# Show the bar graph\n",
        "plt.show()"
      ],
      "metadata": {
        "colab": {
          "base_uri": "https://localhost:8080/",
          "height": 445
        },
        "id": "SEyEa25INkTD",
        "outputId": "645aa862-c1fd-466d-a6e5-93868b21619e"
      },
      "execution_count": 19,
      "outputs": [
        {
          "output_type": "display_data",
          "data": {
            "text/plain": [
              "<Figure size 640x480 with 1 Axes>"
            ],
            "image/png": "[encoded data removed]"
          },
          "metadata": {}
        }
      ]
    }
  ]
}